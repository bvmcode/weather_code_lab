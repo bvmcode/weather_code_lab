{
 "cells": [
  {
   "cell_type": "code",
   "execution_count": 6,
   "id": "1b2c7dcc-3499-43e9-9746-98754aae991a",
   "metadata": {},
   "outputs": [],
   "source": [
    "import os\n",
    "import requests\n",
    "import base64\n",
    "from io import BytesIO\n",
    "\n",
    "from PIL import Image\n",
    "import openai\n",
    "\n",
    "def encode_image(image):\n",
    "    buffer = BytesIO()\n",
    "    image.save(buffer, format=\"PNG\")\n",
    "    return base64.b64encode(buffer.getvalue()).decode(\"utf-8\")\n",
    "    \n",
    "    \n",
    "def get_current_synoptic_analysis(maps, map_urls):\n",
    "    api_key = os.getenv(\"OPENAI_API_KEY\")\n",
    "    client = openai.OpenAI(api_key=api_key)\n",
    "    prompt = f\"\"\"\n",
    "        Please analyze these weather maps and provide a synoptic breakdown.\n",
    "        Your audience is a meteorologist, so please be technical.\n",
    "        Please provide your response in markdown. The map urls are {\", \".join(map_urls)}.\n",
    "        Please include the urls in the markdown.\n",
    "    \"\"\"\n",
    "    system = \"You are a helpful meteorological assistant.\"\n",
    "\n",
    "    messages = [\n",
    "        {\"role\": \"system\", \"content\": system},\n",
    "        {\"role\": \"user\", \"content\": [{\"type\": \"text\", \"text\": prompt}]}\n",
    "    ]\n",
    "\n",
    "    for image in maps:\n",
    "        base64_img = encode_image(image)\n",
    "        messages[1][\"content\"].append({\n",
    "            \"type\": \"image_url\",\n",
    "            \"image_url\": {\n",
    "                \"url\": f\"data:image/png;base64,{base64_img}\"\n",
    "            }\n",
    "        })\n",
    "\n",
    "    response = client.chat.completions.create(\n",
    "        model = \"gpt-4o\",\n",
    "        messages=messages\n",
    "    )\n",
    "\n",
    "    return response.choices[0].message.content\n",
    "\n",
    "\n",
    "def download_files(date, hour):\n",
    "    map_urls = [\n",
    "        \"https://climate.cod.edu/data/surface/US/contour/current/US.fronts.gif\", # sfc\n",
    "        f\"https://climate.cod.edu/data/upper/US/contour/USvort.{date}.{hour}.gif\", # 500mb vort\n",
    "        f\"https://climate.cod.edu/data/upper/US/700/US700rh.{date}.{hour}.gif\", # 700mb rh\n",
    "        f\"https://climate.cod.edu/data/upper/US/850/US850dew.{date}.{hour}.gif\", # 850 dpt\n",
    "        f\"https://climate.cod.edu/data/upper/US/contour/USthick.{date}.{hour}.gif\" #1000-500mb del Z\n",
    "    ]\n",
    "    maps = []\n",
    "    for url in map_urls:\n",
    "        response = requests.get(url)\n",
    "        image = Image.open(BytesIO(response.content))\n",
    "        maps.append(image)\n",
    "\n",
    "    return maps, map_urls"
   ]
  },
  {
   "cell_type": "code",
   "execution_count": 10,
   "id": "8c75975c-d4f1-44e6-8b3d-3437d9e0857a",
   "metadata": {},
   "outputs": [],
   "source": [
    "from datetime import datetime\n",
    "date = datetime.now().strftime(\"%Y%m%d\")\n",
    "hour = 12\n",
    "maps, map_urls = download_files(date, hour)\n",
    "answer = get_current_synoptic_analysis(maps, map_urls)"
   ]
  },
  {
   "cell_type": "code",
   "execution_count": 12,
   "id": "bb4f426d-2aa3-4756-934a-95e0579244cd",
   "metadata": {},
   "outputs": [
    {
     "data": {
      "text/markdown": [
       "## Synoptic Weather Analysis\n",
       "\n",
       "### Surface Analysis\n",
       "![Surface Map](https://climate.cod.edu/data/surface/US/contour/current/US.fronts.gif)\n",
       "\n",
       "A well-defined low-pressure system is positioned over the northwestern United States, with an associated cold front extending southeastward. There’s another smaller low-pressure system over the southeastern United States, with a warm front visible extending northeast. High-pressure areas are stationed over the central plains and northeastern states, creating a pressure gradient that is driving northeasterly winds in these regions.\n",
       "\n",
       "### 500 mb Vorticity\n",
       "![500 mb Vorticity](https://climate.cod.edu/data/upper/US/contour/USvort.20250511.12.gif)\n",
       "\n",
       "The 500 mb chart shows a deep trough over the southeastern United States, indicating potential cyclonic activity and possibly enhanced vertical motion. High vorticity is concentrated around the Gulf of Mexico, suggesting active weather and convective potential. Upper-level convergence over the Pacific Northwest aligns with the surface high-pressure area.\n",
       "\n",
       "### 700 mb Relative Humidity\n",
       "![700 mb RH](https://climate.cod.edu/data/upper/US/700/US700rh.20250511.12.gif)\n",
       "\n",
       "The 700 mb relative humidity map shows increased moisture over the southeastern United States and Gulf Coast, correlating with the trough and surface low observed earlier. Dry air is predominant over the central plains, suggesting a ridge or subsidence at mid-levels.\n",
       "\n",
       "### 850 mb Dew Point\n",
       "![850 mb Dew Point](https://climate.cod.edu/data/upper/US/850/US850dew.20250511.12.gif)\n",
       "\n",
       "The 850 mb map highlights a moist air mass throughout the southeastern United States, with higher dew points reinforcing the potential for convection and precipitation. There is also a noticeable moisture gradient from east to west, supporting frontal activity and possible severe weather conditions.\n",
       "\n",
       "### 1000-500 mb Thickness \n",
       "![Thickness](https://climate.cod.edu/data/upper/US/contour/USthick.20250511.12.gif)\n",
       "\n",
       "The thickness map shows a significant thermal gradient across the northeastern and midwestern United States, indicating a baroclinic zone that is often associated with active frontal boundaries. The tight packing of isobars and thickness lines in the southwest suggests strong winds and possible jet streak dynamics.\n",
       "\n",
       "### Summary\n",
       "\n",
       "The current synoptic setup shows a complex system with significant low-pressure activity in both northwest and southeast United States. The southeast is particularly primed for convective weather due to the combination of upper-level vorticity, high moisture content, and lifting mechanisms. Meanwhile, high pressure continues to dominate the central United States, providing more stable but cooler conditions.\n",
       "\n",
       "This analysis should provide a comprehensive understanding of the current weather patterns influencing the United States. The presented data supports the potential for active weather in regions aligned with current low-pressure systems and associated upper dynamics."
      ],
      "text/plain": [
       "<IPython.core.display.Markdown object>"
      ]
     },
     "metadata": {},
     "output_type": "display_data"
    }
   ],
   "source": [
    "from IPython.display import Markdown, display\n",
    "display(Markdown(answer))"
   ]
  },
  {
   "cell_type": "code",
   "execution_count": null,
   "id": "029893ad-0415-4453-8a35-240d062f578b",
   "metadata": {},
   "outputs": [],
   "source": []
  }
 ],
 "metadata": {
  "kernelspec": {
   "display_name": "Python 3 (ipykernel)",
   "language": "python",
   "name": "python3"
  },
  "language_info": {
   "codemirror_mode": {
    "name": "ipython",
    "version": 3
   },
   "file_extension": ".py",
   "mimetype": "text/x-python",
   "name": "python",
   "nbconvert_exporter": "python",
   "pygments_lexer": "ipython3",
   "version": "3.13.3"
  }
 },
 "nbformat": 4,
 "nbformat_minor": 5
}
